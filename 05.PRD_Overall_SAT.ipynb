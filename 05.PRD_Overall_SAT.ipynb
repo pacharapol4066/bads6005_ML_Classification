{
 "cells": [
  {
   "cell_type": "code",
   "execution_count": 1,
   "metadata": {
    "colab": {
     "base_uri": "https://localhost:8080/",
     "height": 34
    },
    "colab_type": "code",
    "executionInfo": {
     "elapsed": 13150,
     "status": "ok",
     "timestamp": 1584679654970,
     "user": {
      "displayName": "Jednipat Atiwetsakun",
      "photoUrl": "",
      "userId": "08530790593436547252"
     },
     "user_tz": -420
    },
    "id": "1PZ8UYMoY4o8",
    "outputId": "25f670e1-0023-4de8-b1af-9011e7887bf5"
   },
   "outputs": [],
   "source": [
    "source_filepath = 'source\\question'\n",
    "input_filepath = 'input\\question'\n",
    "output_filepath = 'output'\n",
    "font_filepath = 'source'"
   ]
  },
  {
   "cell_type": "code",
   "execution_count": 2,
   "metadata": {
    "colab": {},
    "colab_type": "code",
    "id": "F9aTNQChY4ro"
   },
   "outputs": [],
   "source": [
    "import pandas as pd\n",
    "import numpy as np\n",
    "from scipy import stats\n",
    "import matplotlib.pyplot as plt\n",
    "import matplotlib.font_manager as fm\n",
    "from scipy.stats import chi2_contingency\n",
    "import warnings\n",
    "import seaborn as sns\n",
    "import re\n",
    "from statsmodels.graphics.tsaplots import plot_acf,plot_pacf\n",
    "import datetime\n",
    "from math import sqrt"
   ]
  },
  {
   "cell_type": "code",
   "execution_count": 3,
   "metadata": {
    "colab": {},
    "colab_type": "code",
    "id": "fTbyg_7IdCHJ"
   },
   "outputs": [],
   "source": [
    "from sklearn.model_selection import GridSearchCV\n",
    "from sklearn.ensemble import RandomForestRegressor\n",
    "from sklearn.linear_model import LogisticRegression\n",
    "from sklearn.tree import DecisionTreeRegressor\n",
    "from sklearn.preprocessing import MinMaxScaler\n",
    "from sklearn.model_selection import train_test_split\n",
    "from sklearn.model_selection import RandomizedSearchCV\n",
    "from sklearn.metrics import mean_squared_error"
   ]
  },
  {
   "cell_type": "code",
   "execution_count": 4,
   "metadata": {
    "colab": {
     "base_uri": "https://localhost:8080/",
     "height": 81
    },
    "colab_type": "code",
    "executionInfo": {
     "elapsed": 17731,
     "status": "ok",
     "timestamp": 1584679660073,
     "user": {
      "displayName": "Jednipat Atiwetsakun",
      "photoUrl": "",
      "userId": "08530790593436547252"
     },
     "user_tz": -420
    },
    "id": "iGa_hJLGQ3c8",
    "outputId": "f31065e5-dcc1-4a8d-bf6e-fc77b22eaf00"
   },
   "outputs": [],
   "source": [
    "from tensorflow.keras.models import Sequential\n",
    "from tensorflow.keras.callbacks import EarlyStopping\n",
    "#from keras.layers.core import Dense, Dropout, Activation           ## Lib for NN (not used)\n",
    "from tensorflow.keras.wrappers.scikit_learn import KerasRegressor\n",
    "warnings.filterwarnings('ignore')"
   ]
  },
  {
   "cell_type": "code",
   "execution_count": 5,
   "metadata": {
    "colab": {},
    "colab_type": "code",
    "id": "Qv-FyQqEGs7g"
   },
   "outputs": [],
   "source": [
    "plt.rcParams.update({'font.size': 22})\n",
    "fonts = font_filepath+'/THSarabunNew.ttf'\n",
    "prop = fm.FontProperties(fname=fonts)# Call Font file that can support Thai Language"
   ]
  },
  {
   "cell_type": "markdown",
   "metadata": {
    "colab_type": "text",
    "id": "0gdTRe2jchIJ"
   },
   "source": [
    "# Read file"
   ]
  },
  {
   "cell_type": "code",
   "execution_count": 6,
   "metadata": {
    "colab": {},
    "colab_type": "code",
    "id": "GeArJKyxcgoJ"
   },
   "outputs": [],
   "source": [
    "def read_file():\n",
    "    external = pd.read_excel(input_filepath+'/External_each_year_sector.xlsx')\n",
    "    external.drop(columns=['Unnamed: 0.1','Unnamed: 0','Date','Month','Sales_group_code'],inplace = True)\n",
    "    external = external.groupby(['Year','Sector']).mean()\n",
    "    question = pd.read_csv(input_filepath+'/Flag_engage_pivot_with_revenue.csv')\n",
    "    Question_External = pd.merge(question,external,left_on=['Year','SECTOR'],right_on=['Year','Sector'],how = 'inner')\n",
    "    return Question_External"
   ]
  },
  {
   "cell_type": "markdown",
   "metadata": {
    "colab_type": "text",
    "id": "S2hfcVXUbgSC"
   },
   "source": [
    "# Preprocess for Model"
   ]
  },
  {
   "cell_type": "markdown",
   "metadata": {},
   "source": [
    "อ้างอิงจากเอกสาร บทที่ 4 ข้อ 6<br>\n",
    "<blockquote>การเลื่อนข้อมูลเป็นหนึ่งในเทคนิคสำหรับการจัดเตรียมข้อมูลเพื่อสร้างแบบจำลองที่ต้องการใช้ข้อมูลในอดีต โดยมีหลักการทำงานหลัก ๆ คือการเลื่อนข้อมูลทั้งหมดที่ต้องการตามแนวแถวไปยังช่วงเวลาที่ต้องการ ตัวอย่างเช่น ตารางที่ 1 หากต้องเลื่อนข้อมูลของวันที่ 1/01/63 มาเป็นข้อมูลของวันที่1/03/63 สามารถทำได้โดยการเลื่อนข้อมูลทั้งหมด 2 ขั้น และทำการสร้างข้อมูลเป็นคอลัมน์ใหม่</blockquote>\n",
    "<img src=\"pics/AA.png\" width=\"180\">"
   ]
  },
  {
   "cell_type": "code",
   "execution_count": 7,
   "metadata": {
    "colab": {},
    "colab_type": "code",
    "id": "Q9F-S-hxbP6D"
   },
   "outputs": [],
   "source": [
    "def preprocessing(df):\n",
    "    dict_ = pd.read_excel(source_filepath+'/Dict.xlsx')\n",
    "    dict_.dropna(inplace = True)\n",
    "    temp = pd.Series(dict_['Unnamed: 2'].values,index=dict_.Q_CD).to_dict()\n",
    "    df.rename(columns = temp,inplace = True)\n",
    "    df.drop(columns =['Unnamed: 0'],inplace = True)\n",
    "    df.rename(columns={'ยอดเงินรวม': 'Revenue'}, inplace=True)\n",
    "    \n",
    "    data = df.drop(columns=['SECTOR','Overall SAT'])\n",
    "    one_hot = pd.get_dummies(data['BIZ_TYP_DESC2'])\n",
    "    data = data.drop('BIZ_TYP_DESC2',axis = 1)\n",
    "    data = data.join(one_hot)\n",
    "    data = data.fillna(0)\n",
    "\n",
    "    data_2015 = data[data.Year == 2015] \n",
    "    data_2016 = data[data.Year == 2016] \n",
    "    data_2017 = data[data.Year == 2017] \n",
    "    data_2018 = data[data.Year == 2018]\n",
    "\n",
    "    target = df[['Overall SAT','Year','SHIP_TO']]\n",
    "    target_2015 = target[target.Year == 2015] \n",
    "    target_2016 = target[target.Year == 2016] \n",
    "    target_2017 = target[target.Year == 2017]\n",
    "    target_2018 = target[target.Year == 2018]\n",
    "\n",
    "    df1 = data_2015.merge(target_2016,on='SHIP_TO')\n",
    "    df2 = data_2016.merge(target_2017,on='SHIP_TO')\n",
    "    df3 = data_2017.merge(target_2018,on='SHIP_TO')\n",
    "    df = pd.concat([df1, df2, df3])\n",
    "\n",
    "    data = df.drop(columns = ['Overall SAT','SHIP_TO','Year_x','Year_y'])\n",
    "    target = df[['SHIP_TO','Overall SAT']]\n",
    "    target.rename(columns={'Overall SAT': 'Actual'}, inplace=True)\n",
    "\n",
    "    column_names = list(data.columns.values)\n",
    "\n",
    "    return data,target,column_names"
   ]
  },
  {
   "cell_type": "code",
   "execution_count": 8,
   "metadata": {
    "colab": {},
    "colab_type": "code",
    "id": "Q9F-S-hxbP6D"
   },
   "outputs": [],
   "source": [
    "def preprocessing_modified(df):\n",
    "    dict_ = pd.read_excel(source_filepath+'/Dict.xlsx')\n",
    "    dict_.dropna(inplace = True)\n",
    "    temp = pd.Series(dict_['Unnamed: 2'].values,index=dict_.Q_CD).to_dict()\n",
    "    df.rename(columns = temp,inplace = True)\n",
    "    df.drop(columns =['Unnamed: 0'],inplace = True)\n",
    "    df.rename(columns={'ยอดเงินรวม': 'Revenue'}, inplace=True)\n",
    "    \n",
    "    data = df.drop(columns=['SECTOR','Overall SAT'])\n",
    "    one_hot = pd.get_dummies(data['BIZ_TYP_DESC2'])\n",
    "    data = data.drop('BIZ_TYP_DESC2',axis = 1)\n",
    "    data = data.join(one_hot)\n",
    "    data = data.fillna(0)\n",
    "\n",
    "    data_2015 = data[data.Year == 2015] \n",
    "    data_2016 = data[data.Year == 2016] \n",
    "    data_2017 = data[data.Year == 2017] \n",
    "    data_2018 = data[data.Year == 2018]\n",
    "    data_2019 = data[data.Year == 2019]\n",
    "\n",
    "    target = df[['Overall SAT','Year','SHIP_TO']]\n",
    "    target_2015 = target[target.Year == 2015] \n",
    "    target_2016 = target[target.Year == 2016] \n",
    "    target_2017 = target[target.Year == 2017]\n",
    "    target_2018 = target[target.Year == 2018]\n",
    "    target_2019 = target[target.Year == 2019]\n",
    "\n",
    "    df1 = data_2015.merge(target_2016,on='SHIP_TO')\n",
    "    df2 = data_2016.merge(target_2017,on='SHIP_TO')\n",
    "    df3 = data_2017.merge(target_2018,on='SHIP_TO')\n",
    "    df4 = data_2018.merge(target_2019,on='SHIP_TO')\n",
    "    df = pd.concat([df1, df2, df3, df4])\n",
    "    \n",
    "    #df1 = data_2015.merge(target_2015,on='SHIP_TO')\n",
    "    #df2 = data_2016.merge(target_2016,on='SHIP_TO')\n",
    "    #df3 = data_2017.merge(target_2017,on='SHIP_TO')\n",
    "    #df4 = data_2018.merge(target_2018,on='SHIP_TO')\n",
    "    #df5 = data_2019.merge(target_2019,on='SHIP_TO')\n",
    "    #df = pd.concat([df1, df2, df3, df4, df5])\n",
    "\n",
    "    data = df.drop(columns = ['Overall SAT','SHIP_TO','Year_x','Year_y'])\n",
    "    target = df[['SHIP_TO','Overall SAT']]\n",
    "    target.rename(columns={'Overall SAT': 'Actual'}, inplace=True)\n",
    "    \n",
    "    data_latest_year = data_2019.drop(columns = ['SHIP_TO','Year'])\n",
    "    target_latest_year = target_2019.drop(columns = ['Overall SAT','Year'])\n",
    "\n",
    "    return data,target,data_latest_year,target_latest_year"
   ]
  },
  {
   "cell_type": "markdown",
   "metadata": {
    "colab_type": "text",
    "id": "k2pCaMlVc3_h"
   },
   "source": [
    "# Random Forest Regression"
   ]
  },
  {
   "cell_type": "code",
   "execution_count": 9,
   "metadata": {
    "colab": {},
    "colab_type": "code",
    "id": "KdqPi0mAdPGr"
   },
   "outputs": [],
   "source": [
    "param_grid = {\n",
    "    'bootstrap': [True],\n",
    "    'max_depth': [80, 90, 100, 110],\n",
    "    'min_samples_leaf': [3, 4, 5, 6],\n",
    "    'min_samples_split': [8, 10, 12],\n",
    "    'n_estimators': [100, 200, 300, 1000]\n",
    "}"
   ]
  },
  {
   "cell_type": "code",
   "execution_count": 10,
   "metadata": {
    "colab": {},
    "colab_type": "code",
    "id": "1Npy5O9jcTtp"
   },
   "outputs": [],
   "source": [
    "def Random_Forest_Regression(data, target, param_grid):\n",
    "    rnd_clf = RandomForestRegressor(n_estimators=500, n_jobs=-1, random_state=42)\n",
    "    scaler = MinMaxScaler()\n",
    "    data = scaler.fit_transform(data)\n",
    "    X_train, X_test, y_train, y_test = train_test_split(data,target, test_size=0.33, random_state=42)\n",
    "    y_train.drop(columns = ['SHIP_TO'],inplace = True)\n",
    "    grid_search = GridSearchCV(estimator = rnd_clf, param_grid = param_grid, cv = 5, n_jobs = -1, verbose = 2)\n",
    "    grid_search.fit(X_train, y_train)\n",
    "    print(grid_search.best_params_)\n",
    "    return grid_search,X_test,y_test"
   ]
  },
  {
   "cell_type": "code",
   "execution_count": 11,
   "metadata": {
    "colab": {},
    "colab_type": "code",
    "id": "AzyGznjFcT1w"
   },
   "outputs": [],
   "source": [
    "def Evaluate(model,X_test,y_test):\n",
    "    best_grid = model.best_estimator_\n",
    "    predictions = model.predict(X_test)\n",
    "    rmse = sqrt(mean_squared_error(y_test['Actual'],predictions))\n",
    "    print('The best model evaluate:',rmse)\n",
    "    return rmse,best_grid,predictions"
   ]
  },
  {
   "cell_type": "code",
   "execution_count": 12,
   "metadata": {
    "colab": {},
    "colab_type": "code",
    "id": "xK2v-s_bhW3p"
   },
   "outputs": [],
   "source": [
    "def Predict(model,X_test,y_test):\n",
    "    best_grid = model.best_estimator_\n",
    "    predictions = model.predict(X_test)\n",
    "    return predictions"
   ]
  },
  {
   "cell_type": "code",
   "execution_count": 13,
   "metadata": {
    "colab": {},
    "colab_type": "code",
    "id": "jBE5yXEfeixh"
   },
   "outputs": [],
   "source": [
    "def show_important_feature(column_names,best_grid):\n",
    "    features = list(column_names)\n",
    "    importances = best_grid.feature_importances_\n",
    "    indices = np.argsort(importances)[::-1][:5]\n",
    "    plt.figure(figsize=(25,5))\n",
    "    plt.title('Feature Importances')\n",
    "    plt.bar(range(len(indices)), importances[indices], color='g', align='center')\n",
    "    plt.xticks(range(len(indices)), [features[i] for i in indices], rotation=90, fontproperties=prop)\n",
    "    plt.xlabel('Relative Importance')\n",
    "    plt.show()"
   ]
  },
  {
   "cell_type": "markdown",
   "metadata": {
    "colab_type": "text",
    "id": "FyASP4i-Sn9p"
   },
   "source": [
    "## Running train-test model 2015-2017"
   ]
  },
  {
   "cell_type": "code",
   "execution_count": 14,
   "metadata": {},
   "outputs": [],
   "source": [
    "Question_External = read_file()\n",
    "#data, target, col_name = preprocessing(Question_External)  #2015-2017\n",
    "data,target,data_latest,target_latest = preprocessing_modified(Question_External) #2015-2018"
   ]
  },
  {
   "cell_type": "code",
   "execution_count": 15,
   "metadata": {
    "colab": {
     "base_uri": "https://localhost:8080/",
     "height": 1000
    },
    "colab_type": "code",
    "executionInfo": {
     "elapsed": 1633595,
     "status": "ok",
     "timestamp": 1584683047117,
     "user": {
      "displayName": "Jednipat Atiwetsakun",
      "photoUrl": "",
      "userId": "08530790593436547252"
     },
     "user_tz": -420
    },
    "id": "AsnNyH9vSmy0",
    "outputId": "177de2c7-8228-4870-d692-645bb8bc78c1"
   },
   "outputs": [
    {
     "name": "stdout",
     "output_type": "stream",
     "text": [
      "Fitting 5 folds for each of 192 candidates, totalling 960 fits\n"
     ]
    },
    {
     "name": "stderr",
     "output_type": "stream",
     "text": [
      "[Parallel(n_jobs=-1)]: Using backend LokyBackend with 4 concurrent workers.\n",
      "[Parallel(n_jobs=-1)]: Done  33 tasks      | elapsed:   39.1s\n",
      "[Parallel(n_jobs=-1)]: Done 154 tasks      | elapsed:  3.1min\n",
      "[Parallel(n_jobs=-1)]: Done 357 tasks      | elapsed:  6.6min\n",
      "[Parallel(n_jobs=-1)]: Done 640 tasks      | elapsed: 11.2min\n",
      "[Parallel(n_jobs=-1)]: Done 960 out of 960 | elapsed: 17.3min finished\n"
     ]
    },
    {
     "name": "stdout",
     "output_type": "stream",
     "text": [
      "{'bootstrap': True, 'max_depth': 90, 'min_samples_leaf': 3, 'min_samples_split': 12, 'n_estimators': 1000}\n",
      "The best model evaluate: 0.7403459234029068\n"
     ]
    }
   ],
   "source": [
    "#print('Running Random Forest Regression ...')\n",
    "# Random Forest Regression\n",
    "model, X_test,y_test = Random_Forest_Regression(data,target,param_grid)\n",
    "rmse,best_grid,predictions = Evaluate(model,X_test,y_test)\n",
    "result = pd.DataFrame({'RMSE': [rmse]})\n",
    "#y_test['Predict'] = predictions\n",
    "#result.to_csv(output_filepath+'\\OverAllSAT_Randomforest_evaluation_'+str(datetime.datetime.now().strftime('%Y%m%d_%H%M'))+'.csv') \n",
    "#y_test.to_csv(output_filepath+'\\OverallSAT_Randomforest_prediction_'+str(datetime.datetime.now().strftime('%Y%m%d_%H%M'))+'.csv')"
   ]
  },
  {
   "cell_type": "code",
   "execution_count": 16,
   "metadata": {},
   "outputs": [
    {
     "data": {
      "text/html": [
       "<div>\n",
       "<style scoped>\n",
       "    .dataframe tbody tr th:only-of-type {\n",
       "        vertical-align: middle;\n",
       "    }\n",
       "\n",
       "    .dataframe tbody tr th {\n",
       "        vertical-align: top;\n",
       "    }\n",
       "\n",
       "    .dataframe thead th {\n",
       "        text-align: right;\n",
       "    }\n",
       "</style>\n",
       "<table border=\"1\" class=\"dataframe\">\n",
       "  <thead>\n",
       "    <tr style=\"text-align: right;\">\n",
       "      <th></th>\n",
       "      <th>RMSE</th>\n",
       "    </tr>\n",
       "  </thead>\n",
       "  <tbody>\n",
       "    <tr>\n",
       "      <th>0</th>\n",
       "      <td>0.740346</td>\n",
       "    </tr>\n",
       "  </tbody>\n",
       "</table>\n",
       "</div>"
      ],
      "text/plain": [
       "       RMSE\n",
       "0  0.740346"
      ]
     },
     "execution_count": 16,
     "metadata": {},
     "output_type": "execute_result"
    }
   ],
   "source": [
    "result"
   ]
  },
  {
   "cell_type": "code",
   "execution_count": 17,
   "metadata": {},
   "outputs": [],
   "source": [
    "#show_important_feature(column_names,best_grid)"
   ]
  },
  {
   "cell_type": "markdown",
   "metadata": {},
   "source": [
    "## Result 2019 with best param in model evaluation process"
   ]
  },
  {
   "cell_type": "code",
   "execution_count": 27,
   "metadata": {},
   "outputs": [
    {
     "data": {
      "text/plain": [
       "RandomForestRegressor(bootstrap=True, criterion='mse', max_depth=90,\n",
       "                      max_features='auto', max_leaf_nodes=None,\n",
       "                      min_impurity_decrease=0.0, min_impurity_split=None,\n",
       "                      min_samples_leaf=3, min_samples_split=12,\n",
       "                      min_weight_fraction_leaf=0.0, n_estimators=1000,\n",
       "                      n_jobs=-1, oob_score=False, random_state=42, verbose=0,\n",
       "                      warm_start=False)"
      ]
     },
     "execution_count": 27,
     "metadata": {},
     "output_type": "execute_result"
    }
   ],
   "source": [
    "best_grid"
   ]
  },
  {
   "cell_type": "code",
   "execution_count": 24,
   "metadata": {},
   "outputs": [],
   "source": [
    "# กำหนดค่าจาก Hyperparameter ลง Dictionary ด้วย Best param (ตัวแปร best_grid)\n",
    "#param_best_grid = {\n",
    "#    'bootstrap':True, \n",
    "#    'max_depth':110,\n",
    "#    'min_samples_leaf':3, \n",
    "#    'min_samples_split':12,\n",
    "#    'n_estimators':1000\n",
    "#}"
   ]
  },
  {
   "cell_type": "code",
   "execution_count": 25,
   "metadata": {},
   "outputs": [],
   "source": [
    "#Question_External = read_file()\n",
    "#data,target,data_latest,target_latest = preprocessing_modified(Question_External)"
   ]
  },
  {
   "cell_type": "code",
   "execution_count": 26,
   "metadata": {},
   "outputs": [],
   "source": [
    "#scaler = MinMaxScaler()\n",
    "#data = scaler.fit_transform(data)\n",
    "#rnd_Reg = RandomForestRegressor(n_estimators=param_best_grid.get(\"n_estimators\"),\n",
    "#                                max_depth=param_best_grid.get(\"max_depth\"),\n",
    "#                                min_samples_leaf=param_best_grid.get(\"min_samples_leaf\"),\n",
    "#                                min_samples_split=param_best_grid.get(\"min_samples_split\"))\n",
    "#rnd_Reg.fit(data, target)"
   ]
  },
  {
   "cell_type": "code",
   "execution_count": 28,
   "metadata": {},
   "outputs": [],
   "source": [
    "predict_val = model.predict(data_latest)\n",
    "target_latest['YEAR'] = 2019\n",
    "target_latest['PREDICT'] = predict_val"
   ]
  },
  {
   "cell_type": "code",
   "execution_count": 29,
   "metadata": {
    "scrolled": true
   },
   "outputs": [
    {
     "data": {
      "text/html": [
       "<div>\n",
       "<style scoped>\n",
       "    .dataframe tbody tr th:only-of-type {\n",
       "        vertical-align: middle;\n",
       "    }\n",
       "\n",
       "    .dataframe tbody tr th {\n",
       "        vertical-align: top;\n",
       "    }\n",
       "\n",
       "    .dataframe thead th {\n",
       "        text-align: right;\n",
       "    }\n",
       "</style>\n",
       "<table border=\"1\" class=\"dataframe\">\n",
       "  <thead>\n",
       "    <tr style=\"text-align: right;\">\n",
       "      <th></th>\n",
       "      <th>SHIP_TO</th>\n",
       "      <th>YEAR</th>\n",
       "      <th>PREDICT</th>\n",
       "    </tr>\n",
       "  </thead>\n",
       "  <tbody>\n",
       "    <tr>\n",
       "      <th>1155</th>\n",
       "      <td>30000001.0</td>\n",
       "      <td>2019</td>\n",
       "      <td>8.979658</td>\n",
       "    </tr>\n",
       "    <tr>\n",
       "      <th>1156</th>\n",
       "      <td>30000009.0</td>\n",
       "      <td>2019</td>\n",
       "      <td>8.979658</td>\n",
       "    </tr>\n",
       "    <tr>\n",
       "      <th>1157</th>\n",
       "      <td>30000010.0</td>\n",
       "      <td>2019</td>\n",
       "      <td>8.944455</td>\n",
       "    </tr>\n",
       "    <tr>\n",
       "      <th>1158</th>\n",
       "      <td>30000083.0</td>\n",
       "      <td>2019</td>\n",
       "      <td>8.919968</td>\n",
       "    </tr>\n",
       "    <tr>\n",
       "      <th>1159</th>\n",
       "      <td>30000136.0</td>\n",
       "      <td>2019</td>\n",
       "      <td>8.906017</td>\n",
       "    </tr>\n",
       "    <tr>\n",
       "      <th>1160</th>\n",
       "      <td>30000137.0</td>\n",
       "      <td>2019</td>\n",
       "      <td>8.981746</td>\n",
       "    </tr>\n",
       "    <tr>\n",
       "      <th>1161</th>\n",
       "      <td>30000165.0</td>\n",
       "      <td>2019</td>\n",
       "      <td>8.906017</td>\n",
       "    </tr>\n",
       "    <tr>\n",
       "      <th>1162</th>\n",
       "      <td>30015470.0</td>\n",
       "      <td>2019</td>\n",
       "      <td>8.936909</td>\n",
       "    </tr>\n",
       "    <tr>\n",
       "      <th>1163</th>\n",
       "      <td>30018793.0</td>\n",
       "      <td>2019</td>\n",
       "      <td>8.906017</td>\n",
       "    </tr>\n",
       "    <tr>\n",
       "      <th>1164</th>\n",
       "      <td>30021634.0</td>\n",
       "      <td>2019</td>\n",
       "      <td>8.905946</td>\n",
       "    </tr>\n",
       "    <tr>\n",
       "      <th>1165</th>\n",
       "      <td>30030514.0</td>\n",
       "      <td>2019</td>\n",
       "      <td>8.978819</td>\n",
       "    </tr>\n",
       "    <tr>\n",
       "      <th>1166</th>\n",
       "      <td>30043703.0</td>\n",
       "      <td>2019</td>\n",
       "      <td>8.979658</td>\n",
       "    </tr>\n",
       "    <tr>\n",
       "      <th>1167</th>\n",
       "      <td>30000003.0</td>\n",
       "      <td>2019</td>\n",
       "      <td>8.979658</td>\n",
       "    </tr>\n",
       "    <tr>\n",
       "      <th>1168</th>\n",
       "      <td>30000123.0</td>\n",
       "      <td>2019</td>\n",
       "      <td>8.878407</td>\n",
       "    </tr>\n",
       "    <tr>\n",
       "      <th>1169</th>\n",
       "      <td>30000134.0</td>\n",
       "      <td>2019</td>\n",
       "      <td>8.979658</td>\n",
       "    </tr>\n",
       "    <tr>\n",
       "      <th>1170</th>\n",
       "      <td>30000139.0</td>\n",
       "      <td>2019</td>\n",
       "      <td>9.015436</td>\n",
       "    </tr>\n",
       "    <tr>\n",
       "      <th>1171</th>\n",
       "      <td>30000151.0</td>\n",
       "      <td>2019</td>\n",
       "      <td>9.015436</td>\n",
       "    </tr>\n",
       "    <tr>\n",
       "      <th>1172</th>\n",
       "      <td>30000152.0</td>\n",
       "      <td>2019</td>\n",
       "      <td>8.981832</td>\n",
       "    </tr>\n",
       "    <tr>\n",
       "      <th>1173</th>\n",
       "      <td>30000236.0</td>\n",
       "      <td>2019</td>\n",
       "      <td>9.021186</td>\n",
       "    </tr>\n",
       "    <tr>\n",
       "      <th>1174</th>\n",
       "      <td>30000239.0</td>\n",
       "      <td>2019</td>\n",
       "      <td>8.981746</td>\n",
       "    </tr>\n",
       "    <tr>\n",
       "      <th>1175</th>\n",
       "      <td>30011105.0</td>\n",
       "      <td>2019</td>\n",
       "      <td>8.959695</td>\n",
       "    </tr>\n",
       "    <tr>\n",
       "      <th>1176</th>\n",
       "      <td>30011249.0</td>\n",
       "      <td>2019</td>\n",
       "      <td>8.891475</td>\n",
       "    </tr>\n",
       "    <tr>\n",
       "      <th>1177</th>\n",
       "      <td>30011444.0</td>\n",
       "      <td>2019</td>\n",
       "      <td>8.938645</td>\n",
       "    </tr>\n",
       "    <tr>\n",
       "      <th>1178</th>\n",
       "      <td>30011637.0</td>\n",
       "      <td>2019</td>\n",
       "      <td>9.000022</td>\n",
       "    </tr>\n",
       "    <tr>\n",
       "      <th>1179</th>\n",
       "      <td>30011752.0</td>\n",
       "      <td>2019</td>\n",
       "      <td>8.962128</td>\n",
       "    </tr>\n",
       "    <tr>\n",
       "      <th>1180</th>\n",
       "      <td>30017326.0</td>\n",
       "      <td>2019</td>\n",
       "      <td>8.962197</td>\n",
       "    </tr>\n",
       "    <tr>\n",
       "      <th>1181</th>\n",
       "      <td>30020016.0</td>\n",
       "      <td>2019</td>\n",
       "      <td>8.891284</td>\n",
       "    </tr>\n",
       "    <tr>\n",
       "      <th>1182</th>\n",
       "      <td>30020288.0</td>\n",
       "      <td>2019</td>\n",
       "      <td>8.919214</td>\n",
       "    </tr>\n",
       "    <tr>\n",
       "      <th>1183</th>\n",
       "      <td>30020312.0</td>\n",
       "      <td>2019</td>\n",
       "      <td>9.018052</td>\n",
       "    </tr>\n",
       "    <tr>\n",
       "      <th>1184</th>\n",
       "      <td>30020740.0</td>\n",
       "      <td>2019</td>\n",
       "      <td>8.929156</td>\n",
       "    </tr>\n",
       "    <tr>\n",
       "      <th>...</th>\n",
       "      <td>...</td>\n",
       "      <td>...</td>\n",
       "      <td>...</td>\n",
       "    </tr>\n",
       "    <tr>\n",
       "      <th>1394</th>\n",
       "      <td>30000140.0</td>\n",
       "      <td>2019</td>\n",
       "      <td>8.904396</td>\n",
       "    </tr>\n",
       "    <tr>\n",
       "      <th>1395</th>\n",
       "      <td>30000144.0</td>\n",
       "      <td>2019</td>\n",
       "      <td>9.015436</td>\n",
       "    </tr>\n",
       "    <tr>\n",
       "      <th>1396</th>\n",
       "      <td>30000164.0</td>\n",
       "      <td>2019</td>\n",
       "      <td>8.967277</td>\n",
       "    </tr>\n",
       "    <tr>\n",
       "      <th>1397</th>\n",
       "      <td>30020797.0</td>\n",
       "      <td>2019</td>\n",
       "      <td>8.979658</td>\n",
       "    </tr>\n",
       "    <tr>\n",
       "      <th>1398</th>\n",
       "      <td>30022714.0</td>\n",
       "      <td>2019</td>\n",
       "      <td>8.928711</td>\n",
       "    </tr>\n",
       "    <tr>\n",
       "      <th>1399</th>\n",
       "      <td>30024767.0</td>\n",
       "      <td>2019</td>\n",
       "      <td>8.962128</td>\n",
       "    </tr>\n",
       "    <tr>\n",
       "      <th>1400</th>\n",
       "      <td>30025768.0</td>\n",
       "      <td>2019</td>\n",
       "      <td>8.931255</td>\n",
       "    </tr>\n",
       "    <tr>\n",
       "      <th>1401</th>\n",
       "      <td>30048793.0</td>\n",
       "      <td>2019</td>\n",
       "      <td>8.979658</td>\n",
       "    </tr>\n",
       "    <tr>\n",
       "      <th>1402</th>\n",
       "      <td>30000086.0</td>\n",
       "      <td>2019</td>\n",
       "      <td>8.930120</td>\n",
       "    </tr>\n",
       "    <tr>\n",
       "      <th>1403</th>\n",
       "      <td>30000097.0</td>\n",
       "      <td>2019</td>\n",
       "      <td>8.979658</td>\n",
       "    </tr>\n",
       "    <tr>\n",
       "      <th>1404</th>\n",
       "      <td>30000118.0</td>\n",
       "      <td>2019</td>\n",
       "      <td>8.919968</td>\n",
       "    </tr>\n",
       "    <tr>\n",
       "      <th>1405</th>\n",
       "      <td>30000167.0</td>\n",
       "      <td>2019</td>\n",
       "      <td>8.928659</td>\n",
       "    </tr>\n",
       "    <tr>\n",
       "      <th>1406</th>\n",
       "      <td>30009620.0</td>\n",
       "      <td>2019</td>\n",
       "      <td>8.920962</td>\n",
       "    </tr>\n",
       "    <tr>\n",
       "      <th>1407</th>\n",
       "      <td>30011133.0</td>\n",
       "      <td>2019</td>\n",
       "      <td>9.018052</td>\n",
       "    </tr>\n",
       "    <tr>\n",
       "      <th>1408</th>\n",
       "      <td>30033336.0</td>\n",
       "      <td>2019</td>\n",
       "      <td>9.015436</td>\n",
       "    </tr>\n",
       "    <tr>\n",
       "      <th>1409</th>\n",
       "      <td>30053395.0</td>\n",
       "      <td>2019</td>\n",
       "      <td>8.920384</td>\n",
       "    </tr>\n",
       "    <tr>\n",
       "      <th>1410</th>\n",
       "      <td>30008767.0</td>\n",
       "      <td>2019</td>\n",
       "      <td>8.865740</td>\n",
       "    </tr>\n",
       "    <tr>\n",
       "      <th>1411</th>\n",
       "      <td>30013680.0</td>\n",
       "      <td>2019</td>\n",
       "      <td>8.899243</td>\n",
       "    </tr>\n",
       "    <tr>\n",
       "      <th>1412</th>\n",
       "      <td>30014300.0</td>\n",
       "      <td>2019</td>\n",
       "      <td>8.983348</td>\n",
       "    </tr>\n",
       "    <tr>\n",
       "      <th>1413</th>\n",
       "      <td>30015236.0</td>\n",
       "      <td>2019</td>\n",
       "      <td>8.955628</td>\n",
       "    </tr>\n",
       "    <tr>\n",
       "      <th>1414</th>\n",
       "      <td>30016267.0</td>\n",
       "      <td>2019</td>\n",
       "      <td>8.891292</td>\n",
       "    </tr>\n",
       "    <tr>\n",
       "      <th>1415</th>\n",
       "      <td>30030499.0</td>\n",
       "      <td>2019</td>\n",
       "      <td>8.862289</td>\n",
       "    </tr>\n",
       "    <tr>\n",
       "      <th>1416</th>\n",
       "      <td>30030778.0</td>\n",
       "      <td>2019</td>\n",
       "      <td>8.812273</td>\n",
       "    </tr>\n",
       "    <tr>\n",
       "      <th>1417</th>\n",
       "      <td>30033172.0</td>\n",
       "      <td>2019</td>\n",
       "      <td>8.888293</td>\n",
       "    </tr>\n",
       "    <tr>\n",
       "      <th>1418</th>\n",
       "      <td>30040549.0</td>\n",
       "      <td>2019</td>\n",
       "      <td>8.899455</td>\n",
       "    </tr>\n",
       "    <tr>\n",
       "      <th>1419</th>\n",
       "      <td>30050402.0</td>\n",
       "      <td>2019</td>\n",
       "      <td>8.945248</td>\n",
       "    </tr>\n",
       "    <tr>\n",
       "      <th>1420</th>\n",
       "      <td>30053591.0</td>\n",
       "      <td>2019</td>\n",
       "      <td>8.859609</td>\n",
       "    </tr>\n",
       "    <tr>\n",
       "      <th>1421</th>\n",
       "      <td>30019231.0</td>\n",
       "      <td>2019</td>\n",
       "      <td>8.974390</td>\n",
       "    </tr>\n",
       "    <tr>\n",
       "      <th>1422</th>\n",
       "      <td>30020778.0</td>\n",
       "      <td>2019</td>\n",
       "      <td>8.789887</td>\n",
       "    </tr>\n",
       "    <tr>\n",
       "      <th>1423</th>\n",
       "      <td>30024457.0</td>\n",
       "      <td>2019</td>\n",
       "      <td>8.995953</td>\n",
       "    </tr>\n",
       "  </tbody>\n",
       "</table>\n",
       "<p>269 rows × 3 columns</p>\n",
       "</div>"
      ],
      "text/plain": [
       "         SHIP_TO  YEAR   PREDICT\n",
       "1155  30000001.0  2019  8.979658\n",
       "1156  30000009.0  2019  8.979658\n",
       "1157  30000010.0  2019  8.944455\n",
       "1158  30000083.0  2019  8.919968\n",
       "1159  30000136.0  2019  8.906017\n",
       "1160  30000137.0  2019  8.981746\n",
       "1161  30000165.0  2019  8.906017\n",
       "1162  30015470.0  2019  8.936909\n",
       "1163  30018793.0  2019  8.906017\n",
       "1164  30021634.0  2019  8.905946\n",
       "1165  30030514.0  2019  8.978819\n",
       "1166  30043703.0  2019  8.979658\n",
       "1167  30000003.0  2019  8.979658\n",
       "1168  30000123.0  2019  8.878407\n",
       "1169  30000134.0  2019  8.979658\n",
       "1170  30000139.0  2019  9.015436\n",
       "1171  30000151.0  2019  9.015436\n",
       "1172  30000152.0  2019  8.981832\n",
       "1173  30000236.0  2019  9.021186\n",
       "1174  30000239.0  2019  8.981746\n",
       "1175  30011105.0  2019  8.959695\n",
       "1176  30011249.0  2019  8.891475\n",
       "1177  30011444.0  2019  8.938645\n",
       "1178  30011637.0  2019  9.000022\n",
       "1179  30011752.0  2019  8.962128\n",
       "1180  30017326.0  2019  8.962197\n",
       "1181  30020016.0  2019  8.891284\n",
       "1182  30020288.0  2019  8.919214\n",
       "1183  30020312.0  2019  9.018052\n",
       "1184  30020740.0  2019  8.929156\n",
       "...          ...   ...       ...\n",
       "1394  30000140.0  2019  8.904396\n",
       "1395  30000144.0  2019  9.015436\n",
       "1396  30000164.0  2019  8.967277\n",
       "1397  30020797.0  2019  8.979658\n",
       "1398  30022714.0  2019  8.928711\n",
       "1399  30024767.0  2019  8.962128\n",
       "1400  30025768.0  2019  8.931255\n",
       "1401  30048793.0  2019  8.979658\n",
       "1402  30000086.0  2019  8.930120\n",
       "1403  30000097.0  2019  8.979658\n",
       "1404  30000118.0  2019  8.919968\n",
       "1405  30000167.0  2019  8.928659\n",
       "1406  30009620.0  2019  8.920962\n",
       "1407  30011133.0  2019  9.018052\n",
       "1408  30033336.0  2019  9.015436\n",
       "1409  30053395.0  2019  8.920384\n",
       "1410  30008767.0  2019  8.865740\n",
       "1411  30013680.0  2019  8.899243\n",
       "1412  30014300.0  2019  8.983348\n",
       "1413  30015236.0  2019  8.955628\n",
       "1414  30016267.0  2019  8.891292\n",
       "1415  30030499.0  2019  8.862289\n",
       "1416  30030778.0  2019  8.812273\n",
       "1417  30033172.0  2019  8.888293\n",
       "1418  30040549.0  2019  8.899455\n",
       "1419  30050402.0  2019  8.945248\n",
       "1420  30053591.0  2019  8.859609\n",
       "1421  30019231.0  2019  8.974390\n",
       "1422  30020778.0  2019  8.789887\n",
       "1423  30024457.0  2019  8.995953\n",
       "\n",
       "[269 rows x 3 columns]"
      ]
     },
     "execution_count": 29,
     "metadata": {},
     "output_type": "execute_result"
    }
   ],
   "source": [
    "target_latest"
   ]
  },
  {
   "cell_type": "code",
   "execution_count": 32,
   "metadata": {},
   "outputs": [],
   "source": [
    "target_latest.to_csv(output_filepath+'\\OverallSat_prediction_2019.csv',index=False)"
   ]
  }
 ],
 "metadata": {
  "colab": {
   "collapsed_sections": [],
   "name": "Overall_SAT_Model.ipynb",
   "provenance": []
  },
  "kernelspec": {
   "display_name": "Python 3",
   "language": "python",
   "name": "python3"
  },
  "language_info": {
   "codemirror_mode": {
    "name": "ipython",
    "version": 3
   },
   "file_extension": ".py",
   "mimetype": "text/x-python",
   "name": "python",
   "nbconvert_exporter": "python",
   "pygments_lexer": "ipython3",
   "version": "3.7.3"
  }
 },
 "nbformat": 4,
 "nbformat_minor": 1
}
